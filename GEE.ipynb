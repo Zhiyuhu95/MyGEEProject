{
  "nbformat": 4,
  "nbformat_minor": 0,
  "metadata": {
    "colab": {
      "name": "GEE.ipynb",
      "provenance": [],
      "authorship_tag": "ABX9TyOVm6wKuDphuuBLpt50cHpR",
      "include_colab_link": true
    },
    "kernelspec": {
      "name": "python3",
      "display_name": "Python 3"
    },
    "language_info": {
      "name": "python"
    }
  },
  "cells": [
    {
      "cell_type": "markdown",
      "metadata": {
        "id": "view-in-github",
        "colab_type": "text"
      },
      "source": [
        "<a href=\"https://colab.research.google.com/github/Zhiyuhu95/MyGEEProject/blob/main/GEE.ipynb\" target=\"_parent\"><img src=\"https://colab.research.google.com/assets/colab-badge.svg\" alt=\"Open In Colab\"/></a>"
      ]
    },
    {
      "cell_type": "markdown",
      "source": [
        "# My GEE Project"
      ],
      "metadata": {
        "id": "qsb7HB16E_3T"
      }
    },
    {
      "cell_type": "markdown",
      "source": [
        "## Iniciate GEE"
      ],
      "metadata": {
        "id": "_WgpJhVGFJlz"
      }
    },
    {
      "cell_type": "markdown",
      "source": [
        "Import the Python packages and modules that will be used in this notebook."
      ],
      "metadata": {
        "id": "BKT_VlWdFVyk"
      }
    },
    {
      "cell_type": "code",
      "source": [
        "import ee                          # Earth Engine client library\n",
        "import folium                      # For displaying an interactive map"
      ],
      "metadata": {
        "id": "z4z4mh6yF9Ax"
      },
      "execution_count": null,
      "outputs": []
    },
    {
      "cell_type": "markdown",
      "source": [
        "##Initialize Earth Engine"
      ],
      "metadata": {
        "id": "dDb8Bqr1GqpP"
      }
    },
    {
      "cell_type": "markdown",
      "source": [
        "Authorize access to Earth Engine"
      ],
      "metadata": {
        "id": "2ix1bSxWG68-"
      }
    },
    {
      "cell_type": "code",
      "source": [
        "ee.Authenticate()"
      ],
      "metadata": {
        "id": "Zw9iwwf3GzlN"
      },
      "execution_count": null,
      "outputs": []
    },
    {
      "cell_type": "markdown",
      "source": [
        "Initialize the Earth Engine package, which creates objects and methods based on what is currently available the backend servers."
      ],
      "metadata": {
        "id": "FqrsDKZRHDQq"
      }
    },
    {
      "cell_type": "code",
      "source": [
        "ee.Initialize()"
      ],
      "metadata": {
        "id": "wBg2Dd2fHIkM"
      },
      "execution_count": null,
      "outputs": []
    }
  ]
}